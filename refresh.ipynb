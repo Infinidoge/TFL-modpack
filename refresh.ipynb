{
 "cells": [
  {
   "cell_type": "markdown",
   "metadata": {},
   "source": [
    "packwiz refresh script"
   ]
  },
  {
   "cell_type": "code",
   "execution_count": 3,
   "metadata": {
    "tags": []
   },
   "outputs": [],
   "source": [
    "import yaml\n",
    "import toml\n",
    "import os\n",
    "os.system(\"packwiz refresh\")\n",
    "with open(\"pack-config/flavorgroups.toml\", \"r\") as f, open(\"pack-config/flavors.yaml\") as fl:\n",
    "    data = toml.load(f) | {\"metafile\": {k: {\"flavors\": v.split(\",\")} for k, v in yaml.safe_load(fl).items()}} #type: ignore\n",
    "with open(\"unsup.toml\", \"w\") as f:\n",
    "    toml.dump(data, f)"
   ]
  }
 ],
 "metadata": {
  "kernelspec": {
   "display_name": "Python 3",
   "language": "python",
   "name": "python3"
  },
  "language_info": {
   "codemirror_mode": {
    "name": "ipython",
    "version": 3
   },
   "file_extension": ".py",
   "mimetype": "text/x-python",
   "name": "python",
   "nbconvert_exporter": "python",
   "pygments_lexer": "ipython3",
   "version": "3.10.8"
  },
  "orig_nbformat": 4
 },
 "nbformat": 4,
 "nbformat_minor": 2
}
